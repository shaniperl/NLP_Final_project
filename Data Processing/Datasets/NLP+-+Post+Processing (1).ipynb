{
 "cells": [
  {
   "cell_type": "code",
   "execution_count": 238,
   "metadata": {
    "collapsed": true,
    "jupyter": {
     "outputs_hidden": true
    }
   },
   "outputs": [],
   "source": [
    "import pandas as pd\n",
    "import numpy as np\n",
    "from functools import partial\n",
    "import re"
   ]
  },
  {
   "cell_type": "code",
   "execution_count": 239,
   "metadata": {
    "collapsed": true,
    "jupyter": {
     "outputs_hidden": true
    }
   },
   "outputs": [],
   "source": [
    "def cross_movment(trace_string):\n",
    "    bad_for_SLI = False\n",
    "    for i in re.findall('\\*T\\*-(\\d+)', trace_string):\n",
    "        pos_end = re.search(f'\\([A-Z]+-{i}', trace_string).span()[1]\n",
    "        T_start = re.search(f'\\*T\\*-{i}', trace_string).span()[0]\n",
    "        counter =1\n",
    "        if pos_end<T_start:\n",
    "            for j in range(pos_end, T_start):\n",
    "                if trace_string[j] == ')':\n",
    "                    counter -=1\n",
    "                if trace_string[j] == '(':\n",
    "                    counter +=1\n",
    "                if counter ==0:\n",
    "                    pos_end =j\n",
    "                    break\n",
    "        start_search, end_search  = min(pos_end, T_start), max(pos_end, T_start)\n",
    "        if len(re.findall('[a-z]+', trace_string[start_search: end_search])) >= 1:\n",
    "            bad_for_SLI = True\n",
    "    return bad_for_SLI\n"
   ]
  },
  {
   "cell_type": "code",
   "execution_count": 243,
   "metadata": {},
   "outputs": [],
   "source": [
    "with open(r'C:\\Users\\shani\\Downloads\\wiki-simplified.parser.ptb', 'rb') as f:\n",
    "    parenthsis_counter = 0\n",
    "    sentences = []\n",
    "    sentence = ''\n",
    "    for line in f:\n",
    "        if chr(line[0]) == '(':\n",
    "            sentences.append((str(sentence).replace('\\\\n','').replace(\"b'\", \"\").replace(\")'\",\")\")))\n",
    "            sentence=''\n",
    "        sentence += str(line)\n",
    "    sentences.append(str(sentence))\n",
    "    \n",
    "df = pd.DataFrame(sentences, columns=['TreeString'])\n",
    "df['isTrace'] = df.TreeString.str.find('*T*') > 0\n",
    "df['isQuestion'] = df.TreeString.str.find('. ?') > 0\n",
    "df['isCrossMovment'] = df.TreeString.apply(cross_movment)"
   ]
  },
  {
   "cell_type": "code",
   "execution_count": 244,
   "metadata": {},
   "outputs": [],
   "source": [
    "df.to_csv('wiki_simplified_processed.csv')"
   ]
  }
 ],
 "metadata": {
  "kernelspec": {
   "display_name": "Python 3",
   "language": "python",
   "name": "python3"
  },
  "language_info": {
   "codemirror_mode": {
    "name": "ipython",
    "version": 3
   },
   "file_extension": ".py",
   "mimetype": "text/x-python",
   "name": "python",
   "nbconvert_exporter": "python",
   "pygments_lexer": "ipython3",
   "version": "3.8.2"
  },
  "toc": {
   "base_numbering": 1,
   "nav_menu": {},
   "number_sections": true,
   "sideBar": true,
   "skip_h1_title": false,
   "title_cell": "Table of Contents",
   "title_sidebar": "Contents",
   "toc_cell": false,
   "toc_position": {},
   "toc_section_display": true,
   "toc_window_display": false
  }
 },
 "nbformat": 4,
 "nbformat_minor": 4
}
