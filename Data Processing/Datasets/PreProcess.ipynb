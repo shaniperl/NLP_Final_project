{
 "cells": [
  {
   "cell_type": "code",
   "execution_count": 87,
   "metadata": {},
   "outputs": [],
   "source": [
    "from flair.data import Sentence\n",
    "from flair.models import SequenceTagger\n",
    "import pandas as pd\n",
    "import csv\n",
    "from tqdm.auto import tqdm\n",
    "tqdm.pandas()"
   ]
  },
  {
   "cell_type": "markdown",
   "metadata": {},
   "source": [
    "### Read Data and remove problematic strings"
   ]
  },
  {
   "cell_type": "code",
   "execution_count": 200,
   "metadata": {},
   "outputs": [],
   "source": [
    "normal = pd.read_csv(\"sentence-aligned.v2/normal.aligned\",sep=\"\\t\",header=None)\n",
    "simplified =  pd.read_csv(\"sentence-aligned.v2/simple.aligned\",sep=\"\\t\",header=None)\n",
    "simplified[3] = 1\n",
    "normal[3] = 1\n",
    "### For some reason, the tagger doesn't handle -LBR- (left parenthasis \"(\") and -RRB- (right parenthsis \")\") tokenized tag so switched back to \"(\" and \")\"\n",
    "simplified[2] = simplified[2].str.replace(\"-LRB-\", \"(\").str.replace(\"-RRB-\", ')').str.replace('-',' ').str.replace(\"  \", \" \").str.replace(\"  \", \" \")\n",
    "normal[2] = normal[2].str.replace(\"-LRB-\", \"(\").str.replace(\"-RRB-\", ')').str.replace('-',' ').str.replace(\"  \", \" \").str.replace(\"  \", \" \")"
   ]
  },
  {
   "cell_type": "markdown",
   "metadata": {},
   "source": [
    "### Tagging function. Takes a sentece and tags it using Stanford tagged (Stanza)"
   ]
  },
  {
   "cell_type": "code",
   "execution_count": 109,
   "metadata": {},
   "outputs": [
    {
     "name": "stderr",
     "output_type": "stream",
     "text": [
      "INFO:stanza:Loading these models for language: en (English):\n",
      "========================\n",
      "| Processor | Package  |\n",
      "------------------------\n",
      "| tokenize  | combined |\n",
      "| pos       | combined |\n",
      "========================\n",
      "\n",
      "INFO:stanza:Use device: cpu\n",
      "INFO:stanza:Loading: tokenize\n",
      "INFO:stanza:Loading: pos\n",
      "INFO:stanza:Done loading processors!\n"
     ]
    }
   ],
   "source": [
    "nlp = stanza.Pipeline('en',processors='tokenize,pos')\n",
    "\n",
    "def tag_sentence_stanza(sentence_str):\n",
    "    doc = nlp(sentence_str)\n",
    "    return ' '.join([word.xpos for sent in doc.sentences for word in sent.words])"
   ]
  },
  {
   "cell_type": "markdown",
   "metadata": {},
   "source": [
    "### Taggs the data"
   ]
  },
  {
   "cell_type": "code",
   "execution_count": 217,
   "metadata": {},
   "outputs": [
    {
     "data": {
      "application/vnd.jupyter.widget-view+json": {
       "model_id": "a634fc94f1a84c4c83ca881b686e1cde",
       "version_major": 2,
       "version_minor": 0
      },
      "text/plain": [
       "HBox(children=(FloatProgress(value=0.0, max=10000.0), HTML(value='')))"
      ]
     },
     "metadata": {},
     "output_type": "display_data"
    },
    {
     "name": "stdout",
     "output_type": "stream",
     "text": [
      "\n"
     ]
    },
    {
     "name": "stderr",
     "output_type": "stream",
     "text": [
      "<ipython-input-217-8d9791befee8>:4: SettingWithCopyWarning: \n",
      "A value is trying to be set on a copy of a slice from a DataFrame\n",
      "\n",
      "See the caveats in the documentation: https://pandas.pydata.org/pandas-docs/stable/user_guide/indexing.html#returning-a-view-versus-a-copy\n",
      "  normal[3][FROM_SENTENCE:TO_SENTENCE] = normal[2][FROM_SENTENCE:TO_SENTENCE].progress_apply(tag_sentence_stanza)\n"
     ]
    },
    {
     "data": {
      "application/vnd.jupyter.widget-view+json": {
       "model_id": "04af930b1c2948ad99c9af000e381070",
       "version_major": 2,
       "version_minor": 0
      },
      "text/plain": [
       "HBox(children=(FloatProgress(value=0.0, max=10000.0), HTML(value='')))"
      ]
     },
     "metadata": {},
     "output_type": "display_data"
    },
    {
     "name": "stdout",
     "output_type": "stream",
     "text": [
      "\n"
     ]
    },
    {
     "name": "stderr",
     "output_type": "stream",
     "text": [
      "<ipython-input-217-8d9791befee8>:5: SettingWithCopyWarning: \n",
      "A value is trying to be set on a copy of a slice from a DataFrame\n",
      "\n",
      "See the caveats in the documentation: https://pandas.pydata.org/pandas-docs/stable/user_guide/indexing.html#returning-a-view-versus-a-copy\n",
      "  simplified[3][FROM_SENTENCE:TO_SENTENCE] = simplified[2][FROM_SENTENCE:TO_SENTENCE].progress_apply(tag_sentence_stanza)\n"
     ]
    }
   ],
   "source": [
    "FROM_SENTENCE = 0\n",
    "TO_SENTENCE = 10000\n",
    "\n",
    "normal[3][FROM_SENTENCE:TO_SENTENCE] = normal[2][FROM_SENTENCE:TO_SENTENCE].progress_apply(tag_sentence_stanza)\n",
    "simplified[3][FROM_SENTENCE:TO_SENTENCE] = simplified[2][FROM_SENTENCE:TO_SENTENCE].progress_apply(tag_sentence_stanza)"
   ]
  },
  {
   "cell_type": "markdown",
   "metadata": {},
   "source": [
    "### Takes only sentences with matching tag length to sentence length as there are some edge cases where this isn't true (less then 10%)"
   ]
  },
  {
   "cell_type": "code",
   "execution_count": 218,
   "metadata": {},
   "outputs": [],
   "source": [
    "good_length_of_sentences = ((normal[2].str.count(' ') == normal[3].str.count(' ')) & (simplified[2].str.count(' ') == simplified[3].str.count(' ')))[FROM_SENTENCE:TO_SENTENCE]\n",
    "\n",
    "\n",
    "normal[2][FROM_SENTENCE:TO_SENTENCE][good_length_of_sentences].to_csv('normal_sentences.txt', sep='\\n',index=False, header=False)\n",
    "simplified[2][FROM_SENTENCE:TO_SENTENCE][good_length_of_sentences].to_csv('simplified_sentences.txt', sep='\\n',index=False, header=False)\n",
    "\n",
    "normal[3][FROM_SENTENCE:TO_SENTENCE][good_length_of_sentences].to_csv('normal_sentences_pos_tags.txt', sep='\\n',index=False, header=False)\n",
    "simplified[3][FROM_SENTENCE:TO_SENTENCE][good_length_of_sentences].to_csv('simplified_sentences_pos_tags.txt', sep='\\n',index=False, header=False)\n"
   ]
  }
 ],
 "metadata": {
  "kernelspec": {
   "display_name": "Python 3",
   "language": "python",
   "name": "python3"
  },
  "language_info": {
   "codemirror_mode": {
    "name": "ipython",
    "version": 3
   },
   "file_extension": ".py",
   "mimetype": "text/x-python",
   "name": "python",
   "nbconvert_exporter": "python",
   "pygments_lexer": "ipython3",
   "version": "3.8.2"
  }
 },
 "nbformat": 4,
 "nbformat_minor": 4
}
